{
 "cells": [
  {
   "cell_type": "markdown",
   "metadata": {},
   "source": [
    "Dans ce programme on commence par tracer les positions de la cabine lors du premier tour\n",
    "Puis on calcule les coordonnées des vecteurs vitesse que l'on représente\n",
    "Même chose pour les vecteurs accélérations\n",
    "Puis on cherche à vérifier la valeur de l'accélération normale"
   ]
  },
  {
   "cell_type": "code",
   "execution_count": null,
   "metadata": {},
   "outputs": [],
   "source": [
    "#importation des modules\n",
    "import numpy as np\n",
    "import matplotlib.pylab as plt\n",
    "\n",
    "# Lecture des donnees du fichier txt\n",
    "t, x, y = np.loadtxt('pointage_centrifugeuse.txt', unpack=True, usecols=(0, 1, 2), delimiter = '\\t', skiprows = 2)\n",
    "\n",
    "# Creation du graphique\n",
    "plt.figure(1, figsize=(6, 6)) #impose la taille de la zone de travail\n",
    "plt.axis('equal') # Axes orthonormés\n",
    "plt.title('Positions de la cabine') #Titre du graphique\n",
    "plt.xlabel(r'$ x(m)$') #étiquettes des axes\n",
    "plt.ylabel(r'$ y(m)$')\n",
    "plt.plot(x,y,\"b.\",label=\"Positions de la cabine\", marker = '+') #tracer les positions\n",
    "plt.plot(0,0,\"bo\") #tracer le centre de rotation\n",
    "\n",
    "plt.legend(loc='upper right')\n",
    "plt.show()"
   ]
  },
  {
   "cell_type": "code",
   "execution_count": null,
   "metadata": {},
   "outputs": [],
   "source": [
    "#Définir les coordonnées des vecteurs vitesses \n",
    "vx, vy, ax, ay = [], [], [], []\n",
    "for i in range(1, len(x)-1) :\n",
    "      vx.append((x[i+1]-x[i-1])/(t[i+1]-t[i-1]))\n",
    "      vy.append((y[i+1]-y[i-1])/(t[i+1]-t[i-1]))\n",
    "\n",
    "# Creation du graphique\n",
    "plt.figure(1, figsize=(6, 6)) #impose la taille de la zone de travail\n",
    "plt.axis('equal') # Axes orthonormés\n",
    "plt.title('Positions de la cabine, Tracé des vecteurs vitesse ') #Titre du graphique\n",
    "plt.xlabel(r'$ x(m)$') #étiquettes des axes\n",
    "plt.ylabel(r'$ y(m)$')\n",
    "plt.plot(x,y,\"b.\",label=\"Positions de la cabine\", marker = '+') #tracer les positions\n",
    "plt.plot(0,0,\"bo\") #tracer le centre de rotation\n",
    "#Représenter les vecteurs\n",
    "for i in range(len(vx)) :\n",
    "    plt.quiver(x[i+1], y[i+1], vx[i], vy[i], angles = \"xy\", scale_units = \"xy\", scale = 10, color = \"red\")\n",
    "plt.show()\n"
   ]
  },
  {
   "cell_type": "code",
   "execution_count": null,
   "metadata": {},
   "outputs": [],
   "source": [
    "#Définir les coordonnées des vecteurs vitesses et accélérations\n",
    "refaire le calcul de vx vy ax ay\n",
    "\n",
    "#impose la taille de la zone de travail\n",
    "plt.figure(1, figsize=(6, 6))\n",
    "# Creation du graphique\n",
    "plt.axis('equal') # Axes orthonormés\n",
    "plt.title('Positions de la cabine, Tracé des vecteurs accélérations') #Titre du graphique\n",
    "plt.xlabel(r'$ x(m)$') #étiquettes des axes\n",
    "plt.ylabel(r'$ y(m)$')\n",
    "plt.plot(x,y,\"b.\",label=\"Positions de la cabine\", marker = '+') #tracer les positions\n",
    "plt.plot(0,0,\"bo\") #tracer le centre de rotation\n",
    "#Représenter les vecteurs\n",
    "compléter pour afficher les vecteurs v et a"
   ]
  },
  {
   "cell_type": "code",
   "execution_count": null,
   "metadata": {},
   "outputs": [],
   "source": [
    "#Calcul de v et a\n",
    "v=[] \n",
    "a=[]  \n",
    "for i in range(1,len(vx)-1):                          \n",
    "    v.append((vx[-1]**2+vy[-1]**2)**0.5)                                    \n",
    "    a.append((ax[-1]**2+ay[-1]**2)**0.5)   \n",
    "k=0\n",
    "for i in v:\n",
    "    k+=i\n",
    "v_moy=k/len(v)\n",
    "z=0\n",
    "for i in a:\n",
    "    z+=i\n",
    "a_moy=z/len(a)\n",
    "Faire afficher la moyenne de v, de a et la valeur de k"
   ]
  },
  {
   "cell_type": "code",
   "execution_count": null,
   "metadata": {},
   "outputs": [],
   "source": []
  }
 ],
 "metadata": {
  "kernelspec": {
   "display_name": "Python 3",
   "language": "python",
   "name": "python3"
  },
  "language_info": {
   "codemirror_mode": {
    "name": "ipython",
    "version": 3
   },
   "file_extension": ".py",
   "mimetype": "text/x-python",
   "name": "python",
   "nbconvert_exporter": "python",
   "pygments_lexer": "ipython3",
   "version": "3.8.3"
  }
 },
 "nbformat": 4,
 "nbformat_minor": 4
}
