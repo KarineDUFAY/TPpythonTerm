{
 "cells": [
  {
   "cell_type": "code",
   "execution_count": null,
   "metadata": {},
   "outputs": [],
   "source": [
    "import matplotlib.pyplot as plt\n",
    "import numpy as np\n",
    "\n",
    "# Lecture des donnees du fichier txt\n",
    "t, x, y = np.loadtxt('lancer_balle.txt', unpack=True, usecols=(0, 1, 2), delimiter = '\\t', skiprows = 2)\n",
    "# COMPLETER POUR CALCULER A PARTIR DES DONNES\n",
    "vx=\n",
    "vy=\n",
    "v=\n",
    "m = 24e-3\n",
    "g = 9.81\n",
    "Ec = # COMPLETER\n",
    "Epp = m*g*y[:-1]\n",
    "Em = # COMPLETER\n",
    "\n",
    "# Creation du graphique\n",
    "plt.axis('equal')\n",
    "plt.title('Trajectoire de la balle')\n",
    "plt.xlabel('Abscisse x (m)')\n",
    "plt.ylabel('Altitude y (m)')\n",
    "plt.plot(COMPLETER choisir abscisse, ordonnee, style et options)\n",
    "plt.legend()\n",
    "plt.show()\n",
    "\n",
    "# Creation du graphique des energies\n",
    "plt.title('Évolution des énergies au cours du temps')\n",
    "plt.xlabel('Temps t (s)')\n",
    "plt.ylabel('Energie (J)')\n",
    "plt.plot(t[:-1], Ec, color = 'blue', label = 'Energie cinetique', marker = '+')\n",
    "plt.plot(t[:-1], Epp, color = 'red', label = 'Energie potentielle de pesanteur', marker = '+')\n",
    "plt.plot(t[:-1], Em, color = 'green', label = 'Energie mecanique', marker = '+')\n",
    "plt.legend()\n",
    "plt.show()"
   ]
  }
 ],
 "metadata": {
  "kernelspec": {
   "display_name": "Python 3",
   "language": "python",
   "name": "python3"
  },
  "language_info": {
   "codemirror_mode": {
    "name": "ipython",
    "version": 3
   },
   "file_extension": ".py",
   "mimetype": "text/x-python",
   "name": "python",
   "nbconvert_exporter": "python",
   "pygments_lexer": "ipython3",
   "version": "3.8.3"
  }
 },
 "nbformat": 4,
 "nbformat_minor": 4
}
