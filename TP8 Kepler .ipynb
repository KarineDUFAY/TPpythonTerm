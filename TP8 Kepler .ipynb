{
 "cells": [
  {
   "cell_type": "code",
   "execution_count": null,
   "metadata": {},
   "outputs": [],
   "source": [
    "import numpy as np\n",
    "import matplotlib.pyplot as plt\n",
    "\n",
    "# Vérification de la première loi de Képler pour Mars, compléter avec les données\n",
    "thêta = [compléter] # thêta en degré\n",
    "r = [compléter]# rayon vecteur en U.A = distance Soleil-Mars\n",
    "radian = np.radians(thêta) # Convertir les degrés en radians\n",
    "x=r*np.cos(radian)\n",
    "y=r*np.sin(radian)\n",
    "#compléter pour tracer le graphique de l'ellipse attendue"
   ]
  },
  {
   "cell_type": "code",
   "execution_count": null,
   "metadata": {},
   "outputs": [],
   "source": [
    "from math import *\n",
    "# Vérification de la seconde loi de Képler, calcul des surfaces balayées\n",
    "jours =  # compléter l'intervalle de temps en jours entre deux dates du tableau\n",
    "c=0\n",
    "for i in range(len(r)-1):\n",
    "    A= #compléter pour calculer l'aire balayée\n",
    "    print('surface balayée en 42 jours :', \"%.2f\"%A,\"U.A^2\")\n",
    "    c+=A\n",
    "M= #compléter pour obtenir la moyenne des surfaces balayées\n",
    "print(\"moyenne des surfaces balayées :\", \"%.3f\"%M,\"U.A^2\")\n",
    "S=pi*(max(x)-min(x))*(max(y)-min(y))/4  #calcul de la surface de l'ellipse\n",
    "print(\"surface de l'ellipse :\", \"%.3f\"%S,\"U.A^2\")\n",
    "T= #compléter pour calculer la période de révolution\n",
    "print(\"période de révolution : \", \"%.0f\"%T, \"jours\")"
   ]
  },
  {
   "cell_type": "code",
   "execution_count": null,
   "metadata": {},
   "outputs": [],
   "source": [
    "from scipy import stats\n",
    "\n",
    "a = np.array([compléter])# valeurs de demi grand axe en UA\n",
    "T = np.array([compléter])# valeurs de périodes de révolution en jours\n",
    "\n",
    "a3=a*a*a \n",
    "T2=T*T \n",
    "\n",
    "plt.xlabel(\"a\\u00B3(U.A\\u00B3)\")\n",
    "plt.ylabel(\"T\\u00B2(j\\u00B2)\")\n",
    "plt.scatter(a3,T2,c='red',marker='+', s=70)\n",
    "plt.title(\"Vérification de la troisième loi de Kepler\",color='grey')\n",
    "plt.grid()\n",
    "plt.axis([0,4,0,500000])\n",
    "slope, intercept, r_value, p_value, std_err = stats.linregress(a3,T2) # calcul de regression linéaire\n",
    "print(\"la valeur du coefficient directeur est : \",round(slope,1),\" j\\u00B2.U.A\\u207B\\u00B3\") # affiche le coefficient directeur dans la console\n",
    "\n",
    "plt.show() # affiche la figure à l'écran"
   ]
  },
  {
   "cell_type": "code",
   "execution_count": null,
   "metadata": {},
   "outputs": [],
   "source": []
  }
 ],
 "metadata": {
  "kernelspec": {
   "display_name": "Python 3",
   "language": "python",
   "name": "python3"
  },
  "language_info": {
   "codemirror_mode": {
    "name": "ipython",
    "version": 3
   },
   "file_extension": ".py",
   "mimetype": "text/x-python",
   "name": "python",
   "nbconvert_exporter": "python",
   "pygments_lexer": "ipython3",
   "version": "3.8.3"
  }
 },
 "nbformat": 4,
 "nbformat_minor": 4
}
