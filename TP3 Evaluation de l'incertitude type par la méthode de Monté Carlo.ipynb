{
 "cells": [
  {
   "cell_type": "code",
   "execution_count": 7,
   "metadata": {},
   "outputs": [],
   "source": [
    "# On importe les librairies utilesimport numpy as np\n",
    "from matplotlib import pyplot"
   ]
  },
  {
   "cell_type": "code",
   "execution_count": 13,
   "metadata": {},
   "outputs": [],
   "source": [
    "#On définit les fonctions utiles\n",
    "#Renvoie une valeur aléatoire de la variable L[0] d'incertitude-type L[1]\n",
    "def Alea(L):\n",
    "    tirage=np.random.normal()\n",
    "    return L[0]+L[1]*tirage"
   ]
  },
  {
   "cell_type": "code",
   "execution_count": 9,
   "metadata": {},
   "outputs": [],
   "source": [
    "#Entrées à compléter : [valeur,incertitude type sur la valeur]\n",
    "Winaigre=[valeur,valeur] \n",
    "VA=[valeur,valeur] #en mL\n",
    "cB=[valeur,valeur] #en molL-1\n",
    "M=[60.052,0.0025] #en gmol-1\n",
    "Veq=[valeur,valeur] #à compléter"
   ]
  },
  {
   "cell_type": "code",
   "execution_count": 11,
   "metadata": {},
   "outputs": [
    {
     "name": "stdout",
     "output_type": "stream",
     "text": [
      "Titre massique dacide éthanoïque du vinaigre;: 12.6  %\n",
      "u(wAE) : 0.246  %\n"
     ]
    }
   ],
   "source": [
    "#Méthode de Monte Carlo pour le titre massique de NaOH\n",
    "LwAE=[]\n",
    "Iteration=100000\n",
    "\n",
    "for j in range(Iteration):\n",
    "    AleawAE=20*Alea(M)*Alea(cB)*Alea(Veq)/(Alea(VA)*1020)\n",
    "    LwAE.append(AleawAE)\n",
    "\n",
    "MoywAE=sum(LwAE)/Iteration\n",
    "uwAE=(1/(Iteration-1)*sum((np.array(LwAE)-MoywAE)**2.))**0.5\n",
    "\n",
    "print('Titre massique dacide éthanoïque du vinaigre;:', round(100*MoywAE,3),' %')\n",
    "print('u(wAE) :', round(100*uwAE,3),' %')"
   ]
  },
  {
   "cell_type": "code",
   "execution_count": 12,
   "metadata": {},
   "outputs": [
    {
     "data": {
      "image/png": "[encoded data removed]",
      "text/plain": [
       "<Figure size 432x288 with 1 Axes>"
      ]
     },
     "metadata": {
      "needs_background": "light"
     },
     "output_type": "display_data"
    }
   ],
   "source": [
    "#Histogramme\n",
    "pyplot.hist(LwAE, range = (0.12,0.16), bins = 50, color = 'blue', edgecolor = 'black')\n",
    "pyplot.xlabel('wAE')\n",
    "pyplot.ylabel('effectif')\n",
    "pyplot.title('Pour 100 000 iterations')\n",
    "pyplot.show()"
   ]
  },
  {
   "cell_type": "code",
   "execution_count": null,
   "metadata": {},
   "outputs": [],
   "source": []
  }
 ],
 "metadata": {
  "kernelspec": {
   "display_name": "Python 3",
   "language": "python",
   "name": "python3"
  },
  "language_info": {
   "codemirror_mode": {
    "name": "ipython",
    "version": 3
   },
   "file_extension": ".py",
   "mimetype": "text/x-python",
   "name": "python",
   "nbconvert_exporter": "python",
   "pygments_lexer": "ipython3",
   "version": "3.8.3"
  }
 },
 "nbformat": 4,
 "nbformat_minor": 4
}
