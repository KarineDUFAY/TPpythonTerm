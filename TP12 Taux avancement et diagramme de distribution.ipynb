{
 "cells": [
  {
   "cell_type": "code",
   "execution_count": null,
   "metadata": {},
   "outputs": [],
   "source": [
    "#Import des bibliothèques utiles\n",
    "from matplotlib import pyplot as plt\n",
    "import numpy as np\n",
    "from math import sqrt\n",
    "print(\"Attention : le separateur decimal est le point\")\n",
    "\n",
    "#On cherche à calculer le taux d'avancement connaissant Ca et pH\n",
    "#Faire un tableau d'avancement (acide AH dans l'eau)et exprimer xmax et xf en fonction de c et pH\n",
    "Ca= float(input(\"Quelle est la valeur de la concentration en soluté apporté d'acide en mol/L ? : Ca = \"))\n",
    "pH= float(input(\"Quelle est la valeur du pH de la solution d'acide ainsi préparée ? : pH = \"))\n",
    "Xmax=#Exprimer Xmax en fonction des données\n",
    "Xf=#Exprimer Xf en fonction des données\n",
    "Taux=#calculer Taux\n",
    "if 0.99<Taux<=1:\n",
    "        print (\"Taux d'avancement égal à\",round(100*Taux,2),\"% donc la réaction est totale ou quasi totale\")\n",
    "elif Taux<0.99:\n",
    "        print(\"Taux d'avancement égal à\",round(100*Taux,2),\"% donc la réaction est limitée, c'est un équilibre chimique\")\n",
    "elif Taux==0:\n",
    "        print(\"Taux d'avancement égal à\",round(100*Taux,2),\"%  donc la réaction est inerte\")\n",
    "else :\n",
    "        print(\"Taux d'avancement égal à\",round(100*Taux,2),\"% donc il y a un problème\")\n"
   ]
  },
  {
   "cell_type": "code",
   "execution_count": null,
   "metadata": {},
   "outputs": [],
   "source": [
    "#On cherche à calculer le taux d'avancement connaissant Ca et pKa\n",
    "#Faire un tableau d'avancement (acide AH dans l'eau), établir l'expression du Ka en fonction de Ca et du taux d'avancement\n",
    "from math import *\n",
    "Ca= float(input(\"Quelle est la valeur de la concentration en soluté apporté d'acide en mol/L ? : Ca = \"))\n",
    "pKa= float(input(\"Quelle est la valeur du pKa de l'acide ? : pKa = \"))\n",
    "Ka = #Exprimer Ka en fonction des données\n",
    "delta=#Exprimer le discriminant en fonction de Ka et Ca\n",
    "Taux = #Exprimer la racine positive de l'équation du second degré\n",
    "if delta>=0 :\n",
    "    print(\"Taux d'avancement égal à\",round(100*Taux,2),\"% donc la réaction est limitée, c'est un équilibre chimique\")\n",
    "else :\n",
    "    print(\"Taux d'avancement égal à\",round(100*Taux,2),\"% donc il y a un problème\")\n",
    "h=#Calculer la concentration en H3O+ à partir de taux et Ca\n",
    "pH=-log10(h)\n",
    "print(\"pH final :\",round(pH,2))\n",
    "print(\"Concentration finale de l'acide :\",format(Ca-h,\"3.2E\"),\"mol/L\")\n",
    "print(\"Concentration finale de la base :\",format(h,\"3.2E\"),\"mol/L\")"
   ]
  },
  {
   "cell_type": "code",
   "execution_count": null,
   "metadata": {},
   "outputs": [],
   "source": [
    "#Influence de C sur le taux d'avancement\n",
    "pKa= float(input(\"Indiquer la valeur du pKa du couple acide-base : pKa = \"))\n",
    "Ka = #Exprimer Ka en fonction des données\n",
    "Ci= np.linspace(0.1,1,100)  #Création d'un tableau de valeurs de 100 valeurs de 0.1 à 1 mol/L \n",
    "Taux= [ for X in Ci] #Compléter devant for afin de calculer taux directement comme solution de l'équation du second degré\n",
    "plt.xlabel(\"Ci(mol/L)\")\n",
    "plt.ylabel(\"taux d'avancement final (%)\")\n",
    "plt.plot(Ci,Taux,c=\"red\")\n",
    "plt.show()"
   ]
  },
  {
   "cell_type": "code",
   "execution_count": null,
   "metadata": {},
   "outputs": [],
   "source": [
    "#Influence du pKa sur le taux d'avancement\n",
    "from matplotlib import pyplot as plt\n",
    "import numpy as np\n",
    "from math import sqrt\n",
    "Ca= float(input(\" Quelle est la valeur de la concentration en soluté apporté d'acide en mol/L ? : Ca = \"))\n",
    "pKai=  #Création d'un tableau de valeurs de 30 valeurs de 0 à 14 \n",
    "Kai = #Exprimer KaI en fonction des pkai\n",
    "Taux= [(-X+sqrt(X**2+4*X*Ca))*100/(2*Ca) for X in Kai]\n",
    "plt.xlabel(\"pKa(mol/L)\")\n",
    "plt.ylabel(\"taux d'avancement final (%)\")\n",
    "plt.plot(pKai,Taux,c=\"red\")\n",
    "plt.show()"
   ]
  },
  {
   "cell_type": "code",
   "execution_count": null,
   "metadata": {},
   "outputs": [],
   "source": [
    "#Diagramme de distribution \n",
    "import numpy as np\n",
    "from matplotlib import pyplot as plt\n",
    "print(\"Attention : le separateur decimal est le point\")\n",
    "\n",
    "pKa= float(input(\"Entrer la valeur du pKa du couple acide-base : pKa = \"))\n",
    "Ci= float(input(\" Quelle est la valeur de la concentration en mol/L ? : CI = \"))\n",
    "pH= # 100 vaLeurs allant de 0 à 14\n",
    "CA=  # Exprimer la concentration en acide en fonction de Ci pH et pKa\n",
    "CB= # Exprimer la concentration en base en fonction de Ci et CA \n",
    "pA= # pA représente Le pourcentage de L'espèce acide AH en fonction de CA et Ci\n",
    "pB=100-pA\n",
    "plt.title(\"diagramme de distribution des espèces AH et A-\")\n",
    "plt.xlabel(\"pH\")\n",
    "plt.ylabel(\"Pourcentage des espèces(%)\")\n",
    "plt.grid(True)\n",
    "plt.plot(pH,pA,c='red',label=\"Pourcentage de la forme acide AH\")\n",
    "plt.plot(pH,pB,c='b',label=\"Pourcentage de la forme basique A-\")\n",
    "plt.legend()\n",
    "plt.show()"
   ]
  }
 ],
 "metadata": {
  "kernelspec": {
   "display_name": "Python 3",
   "language": "python",
   "name": "python3"
  },
  "language_info": {
   "codemirror_mode": {
    "name": "ipython",
    "version": 3
   },
   "file_extension": ".py",
   "mimetype": "text/x-python",
   "name": "python",
   "nbconvert_exporter": "python",
   "pygments_lexer": "ipython3",
   "version": "3.8.5"
  }
 },
 "nbformat": 4,
 "nbformat_minor": 4
}
