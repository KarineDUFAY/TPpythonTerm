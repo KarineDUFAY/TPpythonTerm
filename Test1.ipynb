# ## Génération et somme des coordonnées deux signaux périodiques synchrones

# Aide n°1 Les paramètres de la fonction <font color=red><i>signal</i></font> sont des variables nommées A, T et phi # Aide n°2 Une fonction sinusoïdale au cours du temps, notée s(t), d'amplitude A, de période T et de phase $\phi$ peut être décrite par l'équation suivante :
# $s(t) \ = \ A \times \ sin\ (\frac{2 \ \times \pi}{T}\times t\  + \ \phi)$
# Aide n°3 Le nombre $\pi$ s'écrit pi
# Aide n°4 L'élément à la position i d'une liste nommée t se note t[i]

# In[ ]:
from math import pi, sin

"""
Fonction générant les coordonnées d'un signal sinusoïdal s(t) avec une phase à l'origine
Entrées : amplitude A (en ua), période T (en s), phase (en radian)
Résultat : liste des coordonnées du signal
"""

def signal(A,T,phi):
    t=[]                                     # Création d'une liste vide pour le temps en s
    s=[]                                     # Création d'une liste vide pour l'image de la fonction sinusoïdale s(t) en ua
    points=1000                              # 1 000 couples de coordonnées
    for i in range(points):                  # Boucle pour compléter la liste
        t.append(10*i*T/points)              # Ajout du temps en s commençant à t = 0 s
        if t[-1]<3*T-T*phi/(2*pi):           # L'onde n'arrive au point M qu'après 3 périodes moins la phase
            s.append(0)                      # Le point M est au repos
        else:
            s.append(---A COMPLETER---)      # Ajout de l'image de la fonction sinusoïdale s(t) avec une phase phi
    return [t,s]                             # Renvoie une liste image de la fonction sinusoïdale s(t)


# <div class="alert alert-success" role="alert">
# Exécuter le bloc ci-dessous pour vérifier que votre fonction est correcte. (Aucune compréhension du code n'est demandée)
# </div>

# In[ ]:


assert signal(2,10,0)[1][-1] == -0.12558103905862383 , "Vérifier l'amplitude et/ou la période dans l'expression de la fonction sinusoïdale  "
assert signal(20,3.5,-pi/2)[1][-1] ==-19.960534568565432, "Vérifier la phase dans l'expression de la fonction sinusoïdale  "
print("Bravo, votre fonction est correcte. Vous pouvez continuer.")

# <div class="alert alert-warning" role="alert">
# <b>Travail à faire : </b> Après avoir compris le fonctionnement de la fonction <font color=red><i>signal</i></font>, compléter la fonction ci-dessous pour générer les coordonnées de la somme de deux signaux.
# <br>
# <br>
# <details>
# <summary>Aide n°1</summary>
# <p>Les paramètres de la fonction sont des listes nommées signal_1 et signal_2.</p>
# </details>
# <br>
# <details>
# <summary>Aide n°2</summary>
# <p>La fonction <font color=red><i>len</i></font> permet de connaître le nombre d'éléments présents dans la liste, c'est-à-dire sa longueur.</p>
# </details>
# <br>
# <details>
# <summary>Aide n°3</summary>
# <p>L'élément à la position i d'une liste nommée signal_1 se note signal_1[i].</p>
# </details>
# <br>
# </div>
# 

# In[ ]:


"""
Fonction générant les coordonnées de la somme de deux signaux périodiques synchrones
Entrées : coordonnées du premier signal, coordonnées du second signal
Résultat : liste des coordonnées de la somme deux signaux périodiques synchrones
"""
def somme_signaux_synchrones(signal_1,signal_2):
    s=[]                                    # Création d'une liste vide pour faire la somme deux signaux périodiques synchrones
    for i in range(len(---A COMPLETER---)): # Boucle pour compléter la liste
        s.append(---A COMPLETER---)         # Ajout de la somme de l'amplitude des signaux 1 et 2
    return s 



# <div class="alert alert-success" role="alert">
# Exécuter le bloc ci-dessous pour vérifier que votre fonction est correcte. (Aucune compréhension du code n'est demandée)
# </div>

# In[ ]:


assert somme_signaux_synchrones(signal(2,10,0)[1],signal(2,10,0)[1])[-1] == 2*-0.12558103905862383 , "Vérifier votre boucle et/ou la somme"
assert somme_signaux_synchrones(signal(20,3.5,-pi/2)[1],signal(2,10,0)[1])[-1], "Vérifier votre boucle et/ou la somme "
print("Bravo, votre fonction est correcte. Vous pouvez continuer.")


# <div class="alert alert-success" role="alert">
# Exécuter le bloc ci-dessous. (Aucune compréhension du code n'est demandée)
# </div>

# In[ ]:


import ipywidgets as widgets
import matplotlib.pyplot as plt

def preview_1():
    A,T=amplitude.value,periode.value
    t,s1=signal(A,T,0)
    with out_1:
        out_1.clear_output()
        plt.figure(figsize=(12,4))
        plt.title('Signal n°1') 
        plt.plot(t,s1,color="blue",linewidth=1.0,linestyle="-.",
         label="A1 = {:.1f} ua, T1 = {:.1f} s et phi1 = 0 rad".format(A,T))
        plt.xlim(0,max(t))                                    # Bornes de l'axe des abscisses
        plt.ylim(-21,21)                                      # Bornes de l'axe des ordonnées
        plt.xlabel('temps (en s)')                            # légende axe des abscisses
        plt.ylabel('amplitude (en ua)')                       # légende axe des ordonnées
        plt.legend()
        plt.show()

def preview_2():
    A,T,phi=amplitude.value,periode.value,phase.value*pi
    t,s1=signal(A,T,0)
    t,s2=signal(A,T,phi)
    with out_1:
        out_1.clear_output()
        plt.figure(figsize=(12,4))
        plt.title('Signal n°1') 
        plt.plot(t,s1,color="blue",linewidth=1.0,linestyle="-.",
         label="A1 = {:.1f} ua, T1 = {:.1f} s et phi1 = 0 rad".format(A,T))
        plt.xlim(0,max(t))                                    # Bornes de l'axe des abscisses
        plt.ylim(-21,21)                                      # Bornes de l'axe des ordonnées
        plt.xlabel('temps (en s)')                            # légende axe des abscisses
        plt.ylabel('amplitude (en ua)')                       # légende axe des ordonnées
        plt.legend()
        plt.show()
    with out_2:
        out_2.clear_output()
        plt.figure(figsize=(12,4))
        plt.plot(t,s2,color="green",linewidth=1.0,linestyle="--",
         label="A2 = {:.1f} ua, T2 = {:.1f} s et phi2 = {:.2f} rad".format(A,T,phi))
        plt.title('Signal n°2') 
        plt.xlim(0,max(t))                                    # Bornes de l'axe des abscisses
        plt.ylim(-21,21)                                      # Bornes de l'axe des ordonnées
        plt.xlabel('temps (en s)')                            # légende axe des abscisses
        plt.ylabel('amplitude (en ua)')                       # légende axe des ordonnées
        plt.legend()
        plt.show()       

def preview_3():
    A,T,phi=amplitude.value,periode.value,phase.value*pi
    t,s1=signal(A,T,0)
    t,s2=signal(A,T,phi)
    s3=somme_signaux_synchrones(s1,s2)
    with out_1:
        out_1.clear_output()
        plt.figure(figsize=(12,4))
        plt.title('Signal n°1') 
        plt.plot(t,s1,color="blue",linewidth=1.0,linestyle="-.",
         label="A1 = {:.1f} ua, T1 = {:.1f} s et phi1 = 0 rad".format(A,T))
        plt.xlim(0,max(t))                                    # Bornes de l'axe des abscisses
        plt.ylim(-21,21)                                      # Bornes de l'axe des ordonnées
        plt.xlabel('temps (en s)')                            # légende axe des abscisses
        plt.ylabel('amplitude (en ua)')                       # légende axe des ordonnées
        plt.legend()
        plt.show()
    with out_2:
        out_2.clear_output()
        plt.figure(figsize=(12,4))
        plt.plot(t,s2,color="green",linewidth=1.0,linestyle="--",
         label="A2 = {:.1f} ua, T2 = {:.1f} s et phi2 = {:.2f} rad".format(A,T,phi))
        plt.title('Signal n°2') 
        plt.xlim(0,max(t))                                    # Bornes de l'axe des abscisses
        plt.ylim(-21,21)                                      # Bornes de l'axe des ordonnées
        plt.xlabel('temps (en s)')                            # légende axe des abscisses
        plt.ylabel('amplitude (en ua)')                       # légende axe des ordonnées
        plt.legend()
        plt.show()       
    with out_3:
        out_3.clear_output()
        plt.figure(figsize=(12,4))
        plt.plot(t,s1,color="blue",linewidth=1.0,linestyle="-.",
         label="signal n°1")
        plt.plot(t,s2,color="green",linewidth=1,linestyle="--",
         label="signal n°2")
        plt.plot(t,s3,color="red",linewidth=1,linestyle="-",
         label="somme des 2 signaux")
        plt.title('Somme des deux signaux périodiques synchrones') 
        plt.xlim(0,max(t))                                    # Bornes de l'axe des abscisses
        plt.ylim(-21,21)                                      # Bornes de l'axe des ordonnées
        plt.xlabel('temps (en s)')                            # légende axe des abscisses
        plt.ylabel('amplitude (en ua)')                       # légende axe des ordonnées
        plt.legend()
        plt.show()       
        
def preview_clicked_1(b):
    preview_1()
    
def preview_clicked_2(b):
    preview_2()
    
def preview_clicked_3(b):
    preview_3()
    
tab = widgets.Tab()    
out_1 = widgets.Output(layout={'border': '1px solid black'})
out_2 = widgets.Output(layout={'border': '1px solid black'})
out_3 = widgets.Output(layout={'border': '1px solid black'})


amplitude = widgets.FloatSlider(
    value=5,
    min=0,
    max=10.0,
    step=0.1,
    #description='Amplitude du signal (en s)',
    disabled=False,
    continuous_update=False,
    orientation='horizontal',
    readout=True,
    readout_format='.1f',
)

periode = widgets.FloatSlider(
    value=2,
    min=0,
    max=10.0,
    step=0.1,
    #description='Amplitude du signal en unité arbitraire (ua)',
    disabled=False,
    continuous_update=False,
    orientation='horizontal',
    readout=True,
    readout_format='.1f',
)


phase = widgets.FloatSlider(
    value=0.5,
    min=-4,
    max=4,
    step=0.25,
    #description="phase (multiple de pi en radian)",
    disabled=False,
    continuous_update=False,
    orientation='horizontal',
    readout=True,
    readout_format='.2f',
)

layout = widgets.Layout(width='auto', height='40px') #set width and height

button_preview_1 = widgets.Button(
    description='Aperçu du signal n°1',
    disabled=False,
    button_style='info',
    tooltip='Cliquer pour voir',
    icon='search',
    layout=layout)

button_preview_1.on_click(preview_clicked_1)
             
button_preview_2 = widgets.Button(
    description='Aperçu du signal n°2',
    disabled=False,
    button_style='success',
    tooltip='Cliquer pour voir',
    icon='search',
    layout=layout)

button_preview_2.on_click(preview_clicked_2)

button_preview_3 = widgets.Button(
    description='Aperçu de la somme des deux signaux synchrones',
    disabled=False,
    button_style='danger',
    tooltip='Cliquer pour voir',
    icon='search',
    layout=layout)

button_preview_3.on_click(preview_clicked_3)


# <div class="alert alert-warning" role="alert">
# Le programme Python va modéliser l'arrivée au point $M$ des ondes (mécaniques) issues des sources $S_{1}$ et $S_{2}$ ainsi que leur superposition.
# <center><img src="situation.jpg"></center>
# </div>
# <div class="alert alert-success" role="alert">
# Exécuter le bloc ci-dessous. (Aucune compréhension du code n'est demandée)<br>
# </div>
# <div class="alert alert-warning" role="alert">
# <b>Travail à faire : </b> Suivez les consignes qui vont s'afficher pour générer un premier signal sinusoïdal d'amplitude 8,2 ua et de période 6,3 s (la phase est nulle), puis un second signal synchrone (même fréquence avec un déphasage constant) et de même amplitude mais avec une phase à l'origine égal à $+ \ \frac{3\pi}{2}$ et enfin la somme des deux signaux.
# </div>

# In[ ]:


widgets.VBox([
    widgets.HTML(value = f"<b><font color='blue'>Etape n°1 : Sélectionner les paramètres du signal sinusoïdal n°1</b>"),
    widgets.HBox([widgets.Label('Amplitude du signal en unité arbitraire (ua):'),amplitude]),
    widgets.HBox([widgets.Label('Période du signal en seconde (s):'),periode]),
    button_preview_1,
    out_1,
    widgets.HTML(value = f"<b><font color='grenn'>Etape n°2 : Sélectionner la phase du signal sinusoïdal n°2 qui est synchrone au signal n°1 </b>"),
    widgets.HBox([widgets.Label(r'phase (\(\times \  \pi\) en radi)'),phase]),
    button_preview_2,
    out_2,
    widgets.HTML(value = f"<b><font color='red'>Etape n°3</b>"),
    button_preview_3,
    out_3])


# <div class="alert alert-warning" role="alert">
# <b>Travail à faire : </b> Les signaux n°1 et n°2 sont-ils <b>parfaitement</b> en phase ou en opposition de phase ?
# <br><br>
# <details>
# <summary>Correction</summary>
# <p>Les signaux ne sont ni en phase, ni en opposition de phase. Il s'agit d'un cas intermédiaire.</p><br>
# <center><img src="correction_1.jpg"></center>
# </details>
# <br>
# </div>
# <div class="alert alert-success" role="alert">
# Revenons sur la situation étudiée lors du TP interférences<br>
# <center><img src="interferences_jupyter.jpg" width="296" height="320"></center><br>    
# </div>
# <div class="alert alert-warning" role="alert">
# <b>Travail à faire : </b> <ul>
#     <li>À l'aide des résultats votre compte-rendu de TP, indiquer si les interférences au point $M_{1}$ sont constructives ou destructives.</li>
#     <li>Indiquer le signal arrivant en premier au point $M_{1}$.</li>
#     <li>Modifier (par tatonnement) la phase à l'origine, <b>en respectant son signe</b>, du signal n°2 pour simuler l'arrivée au point $M_{1}$ des ondes issues des sources $S_{1}$ et $S_{2}$. (Cliquer directement sur le bouton de l'étape n°3 pour visualiser la simulation.)</li></ul><br>
#     
# <details>
# <summary>Correction pour le point $M_{1}$</summary>
# <ul>
#     <li>Les interférences au point $M_{1}$ sont destructives.</li>
#     <li>L'onde issue de $S_{1}$ arrive avant celle issue de $S_{2}$.</li>
#     <li>Les deux signaux doivent être en opposition de phase. La phase à l'origine pour le signal n°2 vaut $\phi \ = - \ \pi$ (car $\delta  = -  \frac{\lambda}{2}$). </ul><br>
# <center><img src="correction_2.jpg"></center>
# </details>
# <br>
# 
# <b>Travail à faire : </b> Modifier la phase à l'origine du signal n°2 pour simuler des interférences constructives au point $M_{1}$.
# <br><br>
# <details>
# <summary>Correction</summary>
# <ul>
#     <li>L'onde issue de $S_{1}$ arrive avant celle issue de $S_{2}$.</li>
#     <li>Les deux signaux doivent être en phase. La phase à l'origine pour le signal n°2 peut prendre les valeurs $\phi \ = - \ 2\pi$  ou $\phi \ = - \ 4\pi$ </ul><br>
# </details>
# </div>

# In[ ]:




