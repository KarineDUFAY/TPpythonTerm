{
 "cells": [
  {
   "cell_type": "markdown",
   "metadata": {},
   "source": [
    "Bienvenue dans cette activité informatique. Je vous propose ici d'utiliser le langage Python et quelques unes de ses bibliothèques scientifiques. Il n'est pas nécessaire d'avoir de grandes connaissances en python, on se laisse guider pour comprendre le code...\n",
    "\n",
    "On excecute cellule après cellule: il suffit de sélectionner la cellule et d'appuyer sur le bouton Exécuter ou bien SHIFT+ENTER (ou MAJ+ENTRÉE).\n",
    "\n",
    "Ce programme permet de représenter l'évolution des quantités de matière des espèces en fonction du volume de solution titrante versé.\n",
    "La seconde partie du programme permet de tracer la conductivité de la solution en fonction du volume de solution titrante versé\n",
    "\n",
    "La réaction support de titrage est notée A+B->C \n",
    "A est le réactif titré   cA = ? , vA\n",
    "B est le réactif titrant cB , vEqv\n",
    "\n",
    "En présence d'ions spectateurs :\n",
    "SA Les spectateurs de A sont apportés par le réactif titré\n",
    "SB Les spectateurs de B sont apportés par le réactif titrant"
   ]
  },
  {
   "cell_type": "code",
   "execution_count": null,
   "metadata": {},
   "outputs": [],
   "source": [
    "# On importe les librairies utiles\n",
    "# importe le module pyplot de matplotlib en le renommant plt\n",
    "from matplotlib import pyplot as plt\n",
    "# importe NumPy en la renommant np\n",
    "import numpy as np"
   ]
  },
  {
   "cell_type": "code",
   "execution_count": null,
   "metadata": {},
   "outputs": [],
   "source": [
    "# Saisie des informations utiles concernant la réaction étudiée\n",
    "print(\"\\nLa réaction support de titrage est :  A + B -> C\")\n",
    "\n",
    "# Existence et stoéchiométrie des ions spectateurs\n",
    "test=int(input(\"\\nY a-t-il des ions spectateurs ? \" \\\n",
    "               \"Répondre par 1 (Oui) ou 0 (Non) : \"))"
   ]
  },
  {
   "cell_type": "code",
   "execution_count": null,
   "metadata": {},
   "outputs": [],
   "source": [
    "if test :\n",
    "    print(\"\\nPour déterminer le nombre d'ions spectateurs apportés:\" \\\n",
    "    \"\\n\\n-Dans (Na+,HO-), si HO- est un réactif de la réaction de\" \\\n",
    "    \" titrage :\\n Na+ est un ion spectateur et il y a 1 ion Na+\" \\\n",
    "    \" apporté pour 1 ion HO-.\" \\\n",
    "    \"\\n\\n-Dans (Fe2+,2HO-), si HO- est un réactif de la réaction de\" \\\n",
    "    \" titrage :\\n Fe2+ est un ion spectateur et il y a 1/2 ion Fe2+\" \\\n",
    "    \" apporté pour 1 ion HO-.\")\n",
    "    coef_SA = int(input(\"Nombre d'ions spectateurs SA présents pour\" \\\n",
    "                        \" 1 ion titré présent : \"))\n",
    "    coef_SB = int(input(\"Nombre d'ions spectateurs SB apportés pour\" \\\n",
    "                        \" 1 ion titrant apporté : \"))\n",
    "else:\n",
    "    coef_SA = 0\n",
    "    coef_SB = 0"
   ]
  },
  {
   "cell_type": "code",
   "execution_count": null,
   "metadata": {},
   "outputs": [],
   "source": [
    "# Saisie des paramètres\n",
    "vA=float(input(\"Volume initial du réactif titré en mL : vA = \"))\n",
    "cB=float(input(\"Concentration du réactif titrant en mol/L : cB = \"))\n",
    "vEqv=float(input(\"Volume de titrant versé à l'équivalence en mL : vEqv = \"))"
   ]
  },
  {
   "cell_type": "code",
   "execution_count": null,
   "metadata": {},
   "outputs": [],
   "source": [
    "# Calcul de la concentration cA en réactif titré à partir de la \n",
    "# relation à l'équivalence : cAvA/1 = cBvEqv/1\n",
    "cA=... A compléter ..."
   ]
  },
  {
   "cell_type": "code",
   "execution_count": null,
   "metadata": {},
   "outputs": [],
   "source": [
    "# Affichage de la concentration en réactif titré en écriture \n",
    "# scientifique avec le nombre adapté de chiffres significatifs\n",
    "... A compléter ..."
   ]
  },
  {
   "cell_type": "code",
   "execution_count": null,
   "metadata": {},
   "outputs": [],
   "source": [
    "# Fonction calculant la composition du\n",
    "# système avant l'équivalence : v<vEqv\n",
    "def Avant_Eqv(v):\n",
    "    nA_v = ... A compléter ...\n",
    "    nB_v = 0\n",
    "    nC_v = (cB*v)\n",
    "    nSA_v = coef_SA*cA*vA\n",
    "    nSB_v = coef_SB*cB*v\n",
    "    return nA_v,nB_v,nC_v,nSA_v,nSB_v"
   ]
  },
  {
   "cell_type": "code",
   "execution_count": null,
   "metadata": {},
   "outputs": [],
   "source": [
    "# Fonction calculant la composition du\n",
    "# système après l'équivalence (incluse) : v>=vEqv\n",
    "def Apres_Eqv(v):\n",
    "    nA_v = ... A compléter ...\n",
    "    nB_v = ... A compléter ...\n",
    "    nC_v = ... A compléter ...\n",
    "    nSA_v = ... A compléter ...\n",
    "    nSB_v = ... A compléter ...\n",
    "    return ... A compléter ..."
   ]
  },
  {
   "cell_type": "code",
   "execution_count": null,
   "metadata": {},
   "outputs": [],
   "source": [
    "# Défintion du domaine des abscisses v volume versé de O à 2*vEqv avec 21 valeurs régulièrement espacées (v en mL)\n",
    "v = [i*vEqv/10 for i in range(21)] # v en mL"
   ]
  },
  {
   "cell_type": "code",
   "execution_count": null,
   "metadata": {},
   "outputs": [],
   "source": [
    "# Initialisation des listes vides nA,nB,nC,nSA,nSB pour les quantités de matière (en mmol)\n",
    "nA,nB,nC,nSA,nSB = [],[],[],[],[] # quantités de matière en mmol"
   ]
  },
  {
   "cell_type": "code",
   "execution_count": null,
   "metadata": {},
   "outputs": [],
   "source": [
    "# pour chaque valeur x du volume v de solution titrante versé\n",
    "for x in v:                                           \n",
    "    if x<vEqv:    # avant l'équivalence\n",
    "        # Calcul des quantités de matière notées nA_x,nB_x,nC_x,\n",
    "        # nSA_x,nSB_x (en mmol)\n",
    "        ... A compléter...    \n",
    "        ... A compléter...# insère la valeur nA_x en fin de liste nA\n",
    "        ... A compléter...# insère la valeur nB_x en fin de liste nB\n",
    "        ... A compléter...# insère la valeur nC_x en fin de liste nC\n",
    "        ... A compléter...# insère la valeur nSA_x en fin de liste nSA                            \n",
    "        ... A compléter...# insère la valeur nSB_x en fin de liste nSB  "
   ]
  },
  {
   "cell_type": "code",
   "execution_count": null,
   "metadata": {},
   "outputs": [],
   "source": [
    " else:         # après l'équivalence\n",
    "        # Calcul des quantités de matière notées nA_x,nB_x,nC_x,\n",
    "        # nSA_x,nSB_x (en mmol)\n",
    "        ... A compléter ... # insère les valeurs à la fin des   \n",
    "        ... A compléter ... # différentes listes\n",
    "        ... A compléter ...\n",
    "        ... A compléter ...\n",
    "        ... A compléter ...\n",
    "        ... A compléter ..."
   ]
  },
  {
   "cell_type": "code",
   "execution_count": null,
   "metadata": {},
   "outputs": [],
   "source": [
    "# Titre et initialisation de la fenêtre graphique\n",
    "plt.figure('Quantité de matière',figsize=(7,8))   \n",
    "\n",
    "# Tracé des courbes des quantités de matière en fonction de v\n",
    "... A compléter ...      # nA = ntitré = f(v)\n",
    "... A compléter ...      # nB = ntitrant = f(v)\n",
    "... A compléter ...      # nC = f(v)"
   ]
  },
  {
   "cell_type": "code",
   "execution_count": null,
   "metadata": {},
   "outputs": [],
   "source": [
    "if coef_SA != 0:\n",
    "    # Tracé en pointillé de la courbe nSA = nSpectateur-titré = f(v)\n",
    "    ... A compléter ...         \n",
    "if coef_SB != 0:\n",
    "    # Tracé en pointillé de la courbe nSB = nSpectateur-titrant = f(v)\n",
    "    ... A compléter ...    "
   ]
  },
  {
   "cell_type": "code",
   "execution_count": null,
   "metadata": {},
   "outputs": [],
   "source": [
    "# Label des axes\n",
    "... A compléter ...    # Nommer l'axe des abscisses\n",
    "... A compléter ...    # Nommer l'axe des ordonnées"
   ]
  },
  {
   "cell_type": "code",
   "execution_count": null,
   "metadata": {},
   "outputs": [],
   "source": [
    "# Limite des axes\n",
    "y_max = max(max(nA),max(nB),max(nC),max(nSA),max(nSB))\n",
    "plt.xlim(0,max(v)*1.1)\n",
    "plt.ylim(0,y_max*1.2)\n",
    "# Titre supérieur\n",
    "plt.suptitle(\"Evolution des quantités de matière lors d'un titrage\")"
   ]
  },
  {
   "cell_type": "code",
   "execution_count": null,
   "metadata": {},
   "outputs": [],
   "source": [
    "# Fonction affichant en titre la réaction support de titrage et les données\n",
    "def titre(vA,cB,vEqv):\n",
    "    reactifs = ' A$_{titré}$ + B$_{titrant}$'\n",
    "    produits = ' C'\n",
    "    equation = reactifs+'$ \\longrightarrow $ '+produits\n",
    "    data1 ='$v_{A}$ ='+str(vA)+' mL,  '\n",
    "    data2 ='$c_{B}$ = '+'%.1e'%cB+' mol$\\cdot$L$^{-1}$,  '\n",
    "    data3 ='$v_{Eqv}$ ='+str(vEqv)+' mL'\n",
    "    data=data1+data2+data3\n",
    "    plt.title('Réaction support de titrage : '+equation+'\\n'+data)\n",
    "    return"
   ]
  },
  {
   "cell_type": "code",
   "execution_count": null,
   "metadata": {},
   "outputs": [],
   "source": [
    "titre(vA,cB,vEqv) # Affichage du titre (appel de la fonction titre)\n",
    "plt.grid(ls='--') # Affichage d'une grille\n",
    "plt.legend()      # Affichage de la légende\n",
    "plt.show()"
   ]
  },
  {
   "cell_type": "code",
   "execution_count": null,
   "metadata": {},
   "outputs": [],
   "source": [
    "# =========== Tracé de la courbe de suivi conductimétrique ===========\n",
    "test_2 = int(input(\"Voulez_vous visualiser l'allure de la courbe \" \\\n",
    "                   \"de suivi conductimétrique ? Répondre par 1 (Oui) ou 0 (Non) :\" ))"
   ]
  },
  {
   "cell_type": "code",
   "execution_count": null,
   "metadata": {},
   "outputs": [],
   "source": [
    "if test_2 : \n",
    "    print(\"\\nConductivités molaires ioniques en mS.m^2.mol^-1 :\")\n",
    "    l_A=float(input(\"lambda_A = \"))\n",
    "    l_B=float(input(\"lambda_B = \"))\n",
    "    l_C=float(input(\"lambda_C = \"))\n",
    "    l_SA=float(input(\"lambda_SA = \"))\n",
    "    l_SB=float(input(\"lambda_SB = \"))"
   ]
  },
  {
   "cell_type": "code",
   "execution_count": null,
   "metadata": {},
   "outputs": [],
   "source": [
    "  # Conversions des listes v, nA, nB, nC, nSA, nSB en tableaux 1D\n",
    "    V= np.array(v)\n",
    "    N_A=np.array(nA)\n",
    "    N_B=np.array(nB)\n",
    "    N_C=np.array(nC)\n",
    "    N_SA=np.array(nSA)\n",
    "    N_SB=np.array(nSB)"
   ]
  },
  {
   "cell_type": "code",
   "execution_count": null,
   "metadata": {},
   "outputs": [],
   "source": [
    " # Calcul de la conductitivité du système sigma en S.m-1 \n",
    "    # pour chaque valeur de V en mL (sigma : tableau à 1D)\n",
    "    # Remarque : la conductivité est obtenue en S.m-1 en combinant  \n",
    "    # les concentrations en mol.L-1 et les conductivités molaires \n",
    "    # ioniques en mS.m2.mol-1\n",
    "    sigma = ... A compléter ...     "
   ]
  },
  {
   "cell_type": "code",
   "execution_count": null,
   "metadata": {},
   "outputs": [],
   "source": [
    "   # Titre et initialisation de la fenêtre graphique\n",
    "    plt.plot(V,sigma,label='$\\sigma$') # Tracé de sigma = f(V)      "
   ]
  },
  {
   "cell_type": "code",
   "execution_count": null,
   "metadata": {},
   "outputs": [],
   "source": [
    " # Mise en forme de la fenêtre graohique\n",
    "    plt.suptitle(\"Suivi conductimétrique lors d'un titrage\")\n",
    "    titre(vA,cB,vEqv) # Appel de la fonction titre (cf ligne 130-140)\n",
    "    plt.xlabel('Volume $v$ de solution titrante versé (en mL)')\n",
    "    plt.ylabel('$\\sigma$ (en S$\\cdot$m$^{-1})$')\n",
    "    plt.ticklabel_format(axis ='y',style='sci',scilimits=(-3,-3))\n",
    "    y_max = max(sigma)\n",
    "    plt.xlim(0,max(v)*1.1)\n",
    "    plt.ylim(0,y_max*1.2)\n",
    "    plt.grid(ls='--')\n",
    "    plt.legend()    \n",
    "    plt.show()"
   ]
  }
 ],
 "metadata": {
  "kernelspec": {
   "display_name": "Python 3",
   "language": "python",
   "name": "python3"
  },
  "language_info": {
   "codemirror_mode": {
    "name": "ipython",
    "version": 3
   },
   "file_extension": ".py",
   "mimetype": "text/x-python",
   "name": "python",
   "nbconvert_exporter": "python",
   "pygments_lexer": "ipython3",
   "version": "3.8.3"
  }
 },
 "nbformat": 4,
 "nbformat_minor": 4
}
