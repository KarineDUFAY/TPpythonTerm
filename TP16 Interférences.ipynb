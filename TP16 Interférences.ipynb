{
 "cells": [
  {
   "cell_type": "code",
   "execution_count": 2,
   "metadata": {},
   "outputs": [],
   "source": [
    "# PARTIE 1 Génération et somme des coordonnées deux signaux périodiques synchrones\n",
    "\n",
    "# Les paramètres de la fonction <font color=red><i>signal</i></font> sont des variables nommées A, T et phi # Aide n°2 Une fonction sinusoïdale au cours du temps, notée s(t), d'amplitude A, de période T et de phase $\\phi$ peut être décrite par l'équation suivante :\n",
    "# s(t)=A*sin (2*pi*t/T+phi)\n",
    "# L'élément à la position i d'une liste nommée t se note t[i]"
   ]
  },
  {
   "cell_type": "code",
   "execution_count": 4,
   "metadata": {},
   "outputs": [],
   "source": [
    "# Fonction générant les coordonnées d'un signal sinusoïdal s(t) avec une phase à l'origine\n",
    "# Entrées : amplitude A (en ua), période T (en s), phase (en radian)\n",
    "# Résultat : liste des coordonnées du signal\n",
    "\n",
    "from math import pi, sin\n",
    "def signal(A,T,phi):\n",
    "    t=[]                                     # Création d'une liste vide pour le temps en s\n",
    "    s=[]                                     # Création d'une liste vide pour l'image de la fonction sinusoïdale s(t) en ua\n",
    "    points=1000                              # 1 000 couples de coordonnées\n",
    "    for i in range(points):                  # Boucle pour compléter la liste\n",
    "        t.append(10*i*T/points)              # Ajout du temps en s commençant à t = 0 s\n",
    "        if t[-1]<3*T-T*phi/(2*pi):           # L'onde n'arrive au point M qu'après 3 périodes moins la phase\n",
    "            s.append(0)                      # Le point M est au repos\n",
    "        else:\n",
    "            s.append(A COMPLETER)  # Ajout de l'image de la fonction sinusoïdale s(t) avec une phase phi\n",
    "    return [t,s]                             # Renvoie une liste image de la fonction sinusoïdale s(t)\n"
   ]
  },
  {
   "cell_type": "code",
   "execution_count": 5,
   "metadata": {},
   "outputs": [],
   "source": [
    "# Exécuter le bloc ci-dessous pour vérifier que votre fonction est correcte. (Aucune compréhension du code n'est demandée)"
   ]
  },
  {
   "cell_type": "code",
   "execution_count": 6,
   "metadata": {},
   "outputs": [
    {
     "name": "stdout",
     "output_type": "stream",
     "text": [
      "Bravo, votre fonction est correcte. Vous pouvez continuer.\n"
     ]
    }
   ],
   "source": [
    "assert signal(2,10,0)[1][-1] == -0.12558103905862383 , \"Vérifier l'amplitude et/ou la période dans l'expression de la fonction sinusoïdale  \"\n",
    "assert signal(20,3.5,-pi/2)[1][-1] ==-19.960534568565432, \"Vérifier la phase dans l'expression de la fonction sinusoïdale  \"\n",
    "print(\"Bravo, votre fonction est correcte. Vous pouvez continuer.\")"
   ]
  },
  {
   "cell_type": "code",
   "execution_count": 9,
   "metadata": {},
   "outputs": [],
   "source": [
    "# Fonction générant les coordonnées de la somme de deux signaux périodiques synchrones\n",
    "# Entrées : coordonnées du premier signal, coordonnées du second signal\n",
    "# Résultat : liste des coordonnées de la somme deux signaux périodiques synchrones\n",
    "\n",
    "def somme_signaux_synchrones(signal_1,signal_2):\n",
    "    s=[]                                    # Création d'une liste vide pour faire la somme deux signaux périodiques synchrones\n",
    "    for i in range(len(signal_1)):          # Boucle pour compléter la liste\n",
    "        s.append(A COMPLETER)   # Ajout de la somme de l'amplitude des signaux 1 et 2\n",
    "    return s "
   ]
  },
  {
   "cell_type": "code",
   "execution_count": 10,
   "metadata": {},
   "outputs": [],
   "source": [
    "# Exécuter le bloc ci-dessous pour vérifier que votre fonction est correcte. (Aucune compréhension du code n'est demandée)"
   ]
  },
  {
   "cell_type": "code",
   "execution_count": 11,
   "metadata": {},
   "outputs": [
    {
     "name": "stdout",
     "output_type": "stream",
     "text": [
      "Bravo, votre fonction est correcte. Vous pouvez continuer.\n"
     ]
    }
   ],
   "source": [
    "assert somme_signaux_synchrones(signal(2,10,0)[1],signal(2,10,0)[1])[-1] == 2*-0.12558103905862383 , \"Vérifier votre boucle et/ou la somme\"\n",
    "assert somme_signaux_synchrones(signal(20,3.5,-pi/2)[1],signal(2,10,0)[1])[-1], \"Vérifier votre boucle et/ou la somme \"\n",
    "print(\"Bravo, votre fonction est correcte. Vous pouvez continuer.\")"
   ]
  },
  {
   "cell_type": "code",
   "execution_count": 12,
   "metadata": {},
   "outputs": [],
   "source": [
    "# Exécuter le bloc ci-dessous. (Aucune compréhension du code n'est demandée)"
   ]
  },
  {
   "cell_type": "code",
   "execution_count": 13,
   "metadata": {},
   "outputs": [],
   "source": [
    "import ipywidgets as widgets\n",
    "import matplotlib.pyplot as plt\n",
    "\n",
    "def preview_1():\n",
    "    A,T=amplitude.value,periode.value\n",
    "    t,s1=signal(A,T,0)\n",
    "    with out_1:\n",
    "        out_1.clear_output()\n",
    "        plt.figure(figsize=(12,4))\n",
    "        plt.title('Signal n°1') \n",
    "        plt.plot(t,s1,color=\"blue\",linewidth=1.0,linestyle=\"-.\",\n",
    "         label=\"A1 = {:.1f} ua, T1 = {:.1f} s et phi1 = 0 rad\".format(A,T))\n",
    "        plt.xlim(0,max(t))                                    # Bornes de l'axe des abscisses\n",
    "        plt.ylim(-21,21)                                      # Bornes de l'axe des ordonnées\n",
    "        plt.xlabel('temps (en s)')                            # légende axe des abscisses\n",
    "        plt.ylabel('amplitude (en ua)')                       # légende axe des ordonnées\n",
    "        plt.legend()\n",
    "        plt.show()\n",
    "\n",
    "def preview_2():\n",
    "    A,T,phi=amplitude.value,periode.value,phase.value*pi\n",
    "    t,s1=signal(A,T,0)\n",
    "    t,s2=signal(A,T,phi)\n",
    "    with out_1:\n",
    "        out_1.clear_output()\n",
    "        plt.figure(figsize=(12,4))\n",
    "        plt.title('Signal n°1') \n",
    "        plt.plot(t,s1,color=\"blue\",linewidth=1.0,linestyle=\"-.\",\n",
    "         label=\"A1 = {:.1f} ua, T1 = {:.1f} s et phi1 = 0 rad\".format(A,T))\n",
    "        plt.xlim(0,max(t))                                    # Bornes de l'axe des abscisses\n",
    "        plt.ylim(-21,21)                                      # Bornes de l'axe des ordonnées\n",
    "        plt.xlabel('temps (en s)')                            # légende axe des abscisses\n",
    "        plt.ylabel('amplitude (en ua)')                       # légende axe des ordonnées\n",
    "        plt.legend()\n",
    "        plt.show()\n",
    "    with out_2:\n",
    "        out_2.clear_output()\n",
    "        plt.figure(figsize=(12,4))\n",
    "        plt.plot(t,s2,color=\"green\",linewidth=1.0,linestyle=\"--\",\n",
    "         label=\"A2 = {:.1f} ua, T2 = {:.1f} s et phi2 = {:.2f} rad\".format(A,T,phi))\n",
    "        plt.title('Signal n°2') \n",
    "        plt.xlim(0,max(t))                                    # Bornes de l'axe des abscisses\n",
    "        plt.ylim(-21,21)                                      # Bornes de l'axe des ordonnées\n",
    "        plt.xlabel('temps (en s)')                            # légende axe des abscisses\n",
    "        plt.ylabel('amplitude (en ua)')                       # légende axe des ordonnées\n",
    "        plt.legend()\n",
    "        plt.show()       \n",
    "\n",
    "def preview_3():\n",
    "    A,T,phi=amplitude.value,periode.value,phase.value*pi\n",
    "    t,s1=signal(A,T,0)\n",
    "    t,s2=signal(A,T,phi)\n",
    "    s3=somme_signaux_synchrones(s1,s2)\n",
    "    with out_1:\n",
    "        out_1.clear_output()\n",
    "        plt.figure(figsize=(12,4))\n",
    "        plt.title('Signal n°1') \n",
    "        plt.plot(t,s1,color=\"blue\",linewidth=1.0,linestyle=\"-.\",\n",
    "         label=\"A1 = {:.1f} ua, T1 = {:.1f} s et phi1 = 0 rad\".format(A,T))\n",
    "        plt.xlim(0,max(t))                                    # Bornes de l'axe des abscisses\n",
    "        plt.ylim(-21,21)                                      # Bornes de l'axe des ordonnées\n",
    "        plt.xlabel('temps (en s)')                            # légende axe des abscisses\n",
    "        plt.ylabel('amplitude (en ua)')                       # légende axe des ordonnées\n",
    "        plt.legend()\n",
    "        plt.show()\n",
    "    with out_2:\n",
    "        out_2.clear_output()\n",
    "        plt.figure(figsize=(12,4))\n",
    "        plt.plot(t,s2,color=\"green\",linewidth=1.0,linestyle=\"--\",\n",
    "         label=\"A2 = {:.1f} ua, T2 = {:.1f} s et phi2 = {:.2f} rad\".format(A,T,phi))\n",
    "        plt.title('Signal n°2') \n",
    "        plt.xlim(0,max(t))                                    # Bornes de l'axe des abscisses\n",
    "        plt.ylim(-21,21)                                      # Bornes de l'axe des ordonnées\n",
    "        plt.xlabel('temps (en s)')                            # légende axe des abscisses\n",
    "        plt.ylabel('amplitude (en ua)')                       # légende axe des ordonnées\n",
    "        plt.legend()\n",
    "        plt.show()       \n",
    "    with out_3:\n",
    "        out_3.clear_output()\n",
    "        plt.figure(figsize=(12,4))\n",
    "        plt.plot(t,s1,color=\"blue\",linewidth=1.0,linestyle=\"-.\",\n",
    "         label=\"signal n°1\")\n",
    "        plt.plot(t,s2,color=\"green\",linewidth=1,linestyle=\"--\",\n",
    "         label=\"signal n°2\")\n",
    "        plt.plot(t,s3,color=\"red\",linewidth=1,linestyle=\"-\",\n",
    "         label=\"somme des 2 signaux\")\n",
    "        plt.title('Somme des deux signaux périodiques synchrones') \n",
    "        plt.xlim(0,max(t))                                    # Bornes de l'axe des abscisses\n",
    "        plt.ylim(-21,21)                                      # Bornes de l'axe des ordonnées\n",
    "        plt.xlabel('temps (en s)')                            # légende axe des abscisses\n",
    "        plt.ylabel('amplitude (en ua)')                       # légende axe des ordonnées\n",
    "        plt.legend()\n",
    "        plt.show()       \n",
    "        \n",
    "def preview_clicked_1(b):\n",
    "    preview_1()\n",
    "    \n",
    "def preview_clicked_2(b):\n",
    "    preview_2()\n",
    "    \n",
    "def preview_clicked_3(b):\n",
    "    preview_3()\n",
    "    \n",
    "tab = widgets.Tab()    \n",
    "out_1 = widgets.Output(layout={'border': '1px solid black'})\n",
    "out_2 = widgets.Output(layout={'border': '1px solid black'})\n",
    "out_3 = widgets.Output(layout={'border': '1px solid black'})\n",
    "\n",
    "\n",
    "amplitude = widgets.FloatSlider(\n",
    "    value=5,\n",
    "    min=0,\n",
    "    max=10.0,\n",
    "    step=0.1,\n",
    "    #description='Amplitude du signal (en s)',\n",
    "    disabled=False,\n",
    "    continuous_update=False,\n",
    "    orientation='horizontal',\n",
    "    readout=True,\n",
    "    readout_format='.1f',\n",
    ")\n",
    "\n",
    "periode = widgets.FloatSlider(\n",
    "    value=2,\n",
    "    min=0,\n",
    "    max=10.0,\n",
    "    step=0.1,\n",
    "    #description='Amplitude du signal en unité arbitraire (ua)',\n",
    "    disabled=False,\n",
    "    continuous_update=False,\n",
    "    orientation='horizontal',\n",
    "    readout=True,\n",
    "    readout_format='.1f',\n",
    ")\n",
    "\n",
    "\n",
    "phase = widgets.FloatSlider(\n",
    "    value=0.5,\n",
    "    min=-4,\n",
    "    max=4,\n",
    "    step=0.25,\n",
    "    #description=\"phase (multiple de pi en radian)\",\n",
    "    disabled=False,\n",
    "    continuous_update=False,\n",
    "    orientation='horizontal',\n",
    "    readout=True,\n",
    "    readout_format='.2f',\n",
    ")\n",
    "\n",
    "layout = widgets.Layout(width='auto', height='40px') #set width and height\n",
    "\n",
    "button_preview_1 = widgets.Button(\n",
    "    description='Aperçu du signal n°1',\n",
    "    disabled=False,\n",
    "    button_style='info',\n",
    "    tooltip='Cliquer pour voir',\n",
    "    icon='search',\n",
    "    layout=layout)\n",
    "\n",
    "button_preview_1.on_click(preview_clicked_1)\n",
    "             \n",
    "button_preview_2 = widgets.Button(\n",
    "    description='Aperçu du signal n°2',\n",
    "    disabled=False,\n",
    "    button_style='success',\n",
    "    tooltip='Cliquer pour voir',\n",
    "    icon='search',\n",
    "    layout=layout)\n",
    "\n",
    "button_preview_2.on_click(preview_clicked_2)\n",
    "\n",
    "button_preview_3 = widgets.Button(\n",
    "    description='Aperçu de la somme des deux signaux synchrones',\n",
    "    disabled=False,\n",
    "    button_style='danger',\n",
    "    tooltip='Cliquer pour voir',\n",
    "    icon='search',\n",
    "    layout=layout)\n",
    "\n",
    "button_preview_3.on_click(preview_clicked_3)\n"
   ]
  },
  {
   "cell_type": "code",
   "execution_count": 16,
   "metadata": {},
   "outputs": [],
   "source": [
    "# En executant le bloc ci dessous vous allez tracer les deux signaux et leur somme (à chaque fois que l'on appuie sur la loupe)\n",
    "# Montrer le rôle de chaque paramètre sur l'obtention ou pas d'un phénomène d'interférence"
   ]
  },
  {
   "cell_type": "code",
   "execution_count": 17,
   "metadata": {},
   "outputs": [
    {
     "data": {
      "application/vnd.jupyter.widget-view+json": {
       "model_id": "24ecfec5c8eb4222bb296bb636b821c2",
       "version_major": 2,
       "version_minor": 0
      },
      "text/plain": [
       "VBox(children=(HTML(value=\"<b><font color='blue'>Etape n°1 : Sélectionner les paramètres du signal sinusoïdal …"
      ]
     },
     "metadata": {},
     "output_type": "display_data"
    }
   ],
   "source": [
    "widgets.VBox([\n",
    "    widgets.HTML(value = f\"<b><font color='blue'>Etape n°1 : Sélectionner les paramètres du signal sinusoïdal n°1</b>\"),\n",
    "    widgets.HBox([widgets.Label('Amplitude du signal en unité arbitraire (ua):'),amplitude]),\n",
    "    widgets.HBox([widgets.Label('Période du signal en seconde (s):'),periode]),\n",
    "    button_preview_1,\n",
    "    out_1,\n",
    "    widgets.HTML(value = f\"<b><font color='grenn'>Etape n°2 : Sélectionner la phase du signal sinusoïdal n°2 qui est synchrone au signal n°1 </b>\"),\n",
    "    widgets.HBox([widgets.Label(r'phase (\\(\\times \\  \\pi\\) en radi)'),phase]),\n",
    "    button_preview_2,\n",
    "    out_2,\n",
    "    widgets.HTML(value = f\"<b><font color='red'>Etape n°3</b>\"),\n",
    "    button_preview_3,\n",
    "    out_3])"
   ]
  },
  {
   "cell_type": "code",
   "execution_count": 18,
   "metadata": {},
   "outputs": [],
   "source": [
    "# PARTIE 2 Interférences sonores Exercice du livre 60p482\n",
    "\n",
    "# Attention : le séparateur décimal est le point"
   ]
  },
  {
   "cell_type": "code",
   "execution_count": 20,
   "metadata": {},
   "outputs": [
    {
     "name": "stdout",
     "output_type": "stream",
     "text": [
      "fréquence du signal (Hz) = 1600\n",
      "amplitude du signal 1 = 5\n",
      "amplitude du signal 2 = 5\n",
      "célérité (m/s) = 336\n",
      "x = 86.25\n"
     ]
    }
   ],
   "source": [
    "# Saisie des paramètres des signaux (prendre valeurs de l'exercice 59)\n",
    "freq=float(input('fréquence du signal (Hz) = '))\n",
    "ampl1=float(input('amplitude du signal 1 = '))\n",
    "ampl2=float(input('amplitude du signal 2 = '))\n",
    "cel=float(input('célérité (m/s) = '))\n",
    "abscisse=A COMPLETER\n",
    "delta=A COMPLETER"
   ]
  },
  {
   "cell_type": "code",
   "execution_count": 22,
   "metadata": {},
   "outputs": [
    {
     "name": "stdout",
     "output_type": "stream",
     "text": [
      "déphasage =  5125.284014856491  =  815.7142857142857 * 2 pi\n"
     ]
    }
   ],
   "source": [
    "# Calcul du déphasage\n",
    "deph=2*pi*freq*delta/cel\n",
    "print(\"déphasage = \",deph,\" = \",deph/(2*pi),\"* 2 pi\")\n",
    "\n",
    "# Construction des listes\n",
    "import numpy as np\n",
    "listet=np.linspace(0,2/freq,250)\n",
    "listesign1=np.linspace(0,2/freq,250)\n",
    "listesign2=np.linspace(0,2/freq,250)\n",
    "listesuperpo=np.linspace(0,2/freq,250)\n",
    "\n",
    "for i in range(0,250) :\n",
    "    listesign1[i]=ampl1*sin(2*pi*freq*listet[i])\n",
    "    listesign2[i]=ampl2*sin(2*pi*freq*listet[i]+deph)\n",
    "    listesuperpo[i]=listesign1[i]+listesign2[i]"
   ]
  },
  {
   "cell_type": "code",
   "execution_count": 23,
   "metadata": {},
   "outputs": [
    {
     "data": {
      "image/png": "[encoded data removed]",
      "text/plain": [
       "<Figure size 432x288 with 1 Axes>"
      ]
     },
     "metadata": {
      "needs_background": "light"
     },
     "output_type": "display_data"
    }
   ],
   "source": [
    "# Tracé des graphiques\n",
    "plt.plot(compléter)   # Compléter pour afficher listesign1=f(listet) en bleu\n",
    "plt.plot(compléter)   # Compléter pour afficher listesign2=f(listet) en vert\n",
    "plt.plot(compléter)   # Compléter pour afficher listesuperpo=f(listet) en rouge\n",
    "plt.title(\"signal 1 en bleu, 2 en vert, somme en rouge\")\n",
    "plt.show()"
   ]
  }
 ],
 "metadata": {
  "kernelspec": {
   "display_name": "Python 3",
   "language": "python",
   "name": "python3"
  },
  "language_info": {
   "codemirror_mode": {
    "name": "ipython",
    "version": 3
   },
   "file_extension": ".py",
   "mimetype": "text/x-python",
   "name": "python",
   "nbconvert_exporter": "python",
   "pygments_lexer": "ipython3",
   "version": "3.8.3"
  }
 },
 "nbformat": 4,
 "nbformat_minor": 4
}
